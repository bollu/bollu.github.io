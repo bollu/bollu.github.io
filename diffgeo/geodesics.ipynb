{
 "cells": [
  {
   "cell_type": "markdown",
   "id": "15ec2146",
   "metadata": {},
   "source": [
    "# Geodesics and covariant derivative\n",
    "\n",
    "- [Videos by eigenchris](https://www.youtube.com/watch?v=1CuTNveXJRc&list=PLJHszsWbB6hpk5h8lSfBkVrpjsqvUGTCx&index=17)\n",
    "\n",
    "\n",
    "$$\n",
    "\\begin{align*}\n",
    "\\nabla_{u}(v) \\\\\n",
    "= \\nabla{a^i \\partial_i}(b^j \\partial_j) \\\\\n",
    "= a_i \\nabla_{\\partial i}(b^j \\partial_j) \\\\\n",
    "= a_i (\\nabla_{\\partial_i}[b^j] \\partial_j + b^j  \\nabla_{\\partial_i}[\\partial_j]) \\\\\n",
    "= a_i (\\nabla_{\\partial_i}[b^j] \\partial_j + b^j  \\Gamma^k_{ij} \\partial_k) \\\\\n",
    "= a_i (\\partial_i[b^j] \\partial_j + b^j  \\Gamma^k_{ij} \\partial_k) \\\\\n",
    "= a_i (\\partial_i[b^k] \\partial_k + b^j  \\Gamma^k_{ij} \\partial_k) \\\\\n",
    "= a_i (\\partial_i[b^k] + b^j  \\Gamma^k_{ij}) \\partial_k\\\\\n",
    "\\end{align*}\n",
    "$$"
   ]
  },
  {
   "cell_type": "code",
   "execution_count": 2,
   "id": "728b43a8",
   "metadata": {},
   "outputs": [],
   "source": [
    "from sympy import *\n",
    "import sympy as s\n",
    "from sympy.calculus import *\n",
    "from sympy.matrices import *\n",
    "from sympy.vector import *\n",
    "init_printing()"
   ]
  },
  {
   "cell_type": "code",
   "execution_count": 3,
   "id": "93c3ed47",
   "metadata": {},
   "outputs": [],
   "source": [
    "u, v, x, y, z = var(\"u v x y z\")\n"
   ]
  },
  {
   "cell_type": "code",
   "execution_count": null,
   "id": "cce4d6aa",
   "metadata": {},
   "outputs": [],
   "source": []
  },
  {
   "cell_type": "code",
   "execution_count": 4,
   "id": "8d31030f",
   "metadata": {},
   "outputs": [
    {
     "name": "stdout",
     "output_type": "stream",
     "text": [
      "p lengthsq: 1\n",
      "e1 lengthsq: 1\n",
      "e2 lengthsq: 1\n",
      "e1: \n"
     ]
    },
    {
     "data": {
      "image/png": "[encoded data removed]",
      "text/latex": [
       "$\\displaystyle \\left[\\begin{matrix}- \\sin{\\left(u \\right)} \\cos{\\left(v \\right)}\\\\- \\sin{\\left(u \\right)} \\sin{\\left(v \\right)}\\\\\\cos{\\left(u \\right)}\\end{matrix}\\right]$"
      ],
      "text/plain": [
       "⎡-sin(u)⋅cos(v)⎤\n",
       "⎢              ⎥\n",
       "⎢-sin(u)⋅sin(v)⎥\n",
       "⎢              ⎥\n",
       "⎣    cos(u)    ⎦"
      ]
     },
     "metadata": {},
     "output_type": "display_data"
    },
    {
     "name": "stdout",
     "output_type": "stream",
     "text": [
      "e2: \n",
      "Matrix([[-sin(v)*cos(u)], [cos(u)*cos(v)], [0]])\n",
      "e1 dot e2: Matrix([[0]]) \n",
      "n lengthsq: cos(u)**2\n",
      "n length after normalization: 1\n"
     ]
    },
    {
     "data": {
      "image/png": "[encoded data removed]",
      "text/latex": [
       "$\\displaystyle \\left( \\left[\\begin{matrix}- \\sin{\\left(u \\right)} \\cos{\\left(v \\right)}\\\\- \\sin{\\left(u \\right)} \\sin{\\left(v \\right)}\\\\\\cos{\\left(u \\right)}\\end{matrix}\\right], \\  \\left[\\begin{matrix}- \\sin{\\left(v \\right)} \\cos{\\left(u \\right)}\\\\\\cos{\\left(u \\right)} \\cos{\\left(v \\right)}\\\\0\\end{matrix}\\right], \\  \\left[\\begin{matrix}- \\cos{\\left(u \\right)} \\cos{\\left(v \\right)}\\\\- \\sin{\\left(v \\right)} \\cos{\\left(u \\right)}\\\\- \\frac{\\sin{\\left(2 u \\right)}}{2 \\cos{\\left(u \\right)}}\\end{matrix}\\right]\\right)$"
      ],
      "text/plain": [
       "⎛                                    ⎡-cos(u)⋅cos(v)⎤⎞\n",
       "⎜⎡-sin(u)⋅cos(v)⎤  ⎡-sin(v)⋅cos(u)⎤  ⎢              ⎥⎟\n",
       "⎜⎢              ⎥  ⎢              ⎥  ⎢-sin(v)⋅cos(u)⎥⎟\n",
       "⎜⎢-sin(u)⋅sin(v)⎥, ⎢cos(u)⋅cos(v) ⎥, ⎢              ⎥⎟\n",
       "⎜⎢              ⎥  ⎢              ⎥  ⎢  -sin(2⋅u)   ⎥⎟\n",
       "⎜⎣    cos(u)    ⎦  ⎣      0       ⎦  ⎢  ──────────  ⎥⎟\n",
       "⎝                                    ⎣   2⋅cos(u)   ⎦⎠"
      ]
     },
     "metadata": {},
     "output_type": "display_data"
    }
   ],
   "source": [
    "uv = {}\n",
    "\n",
    "uv[z] = sin(u)\n",
    "uv[x] = cos(u) * cos(v)\n",
    "uv[y] = cos(u) * sin(v)\n",
    "\n",
    "p = Matrix((uv[x], uv[y], uv[z])) # point on the sphere\n",
    "print(\"p lengthsq: %s\" % simplify(p.dot(p)))\n",
    "\n",
    "\n",
    "e1, e2 = p.diff(u), p.diff(v)\n",
    "print(\"e1 lengthsq: %s\" % simplify((e1.dot(e1))))\n",
    "print(\"e2 lengthsq: %s\" % simplify((e1.dot(e1))))\n",
    "\n",
    "print(\"e1: \")\n",
    "display(e1)\n",
    "\n",
    "print(\"e2: \")     \n",
    "print(e2)\n",
    "print(\"e1 dot e2: %s \" % (e1.T @ e2)) # zero dot product, linearly independent\n",
    "n = simplify(e1.cross(e2)) # normal vector\n",
    "print(\"n lengthsq: %s\" % simplify((n.dot(n))))\n",
    "n = n / cos(u) # normalization\n",
    "print(\"n length after normalization: %s\" % simplify((n.dot(n)))) # important for further math to work out!\n",
    "\n",
    "display((e1, e2, n)) # all three bases vectors\n",
    "es = {1 : e1, 2: e2} # easy mapping from index to basis vector"
   ]
  },
  {
   "cell_type": "code",
   "execution_count": 5,
   "id": "71aff0a5",
   "metadata": {},
   "outputs": [
    {
     "data": {
      "image/png": "[encoded data removed]",
      "text/latex": [
       "$\\displaystyle \\left( \\operatorname{asin}{\\left(z \\right)}, \\  \\operatorname{atan_{2}}{\\left(y,x \\right)}\\right)$"
      ],
      "text/plain": [
       "(asin(z), atan2(y, x))"
      ]
     },
     "metadata": {},
     "output_type": "display_data"
    }
   ],
   "source": [
    "xyz = {}\n",
    "xyz[u] = asin(z) #\n",
    "# xyz[v] = atan2(y / cos(asin(z)), x / cos(asin(z)))\n",
    "xyz[v] = atan2(y, x)\n",
    "\n",
    "display((xyz[u], xyz[v]))\n"
   ]
  },
  {
   "cell_type": "code",
   "execution_count": 6,
   "id": "3b7b823a",
   "metadata": {},
   "outputs": [
    {
     "name": "stdout",
     "output_type": "stream",
     "text": [
      "e1 in xyz: \n"
     ]
    },
    {
     "data": {
      "image/png": "[encoded data removed]",
      "text/latex": [
       "$\\displaystyle \\left[\\begin{matrix}- \\frac{x z}{\\sqrt{x^{2} + y^{2}}}\\\\- \\frac{y z}{\\sqrt{x^{2} + y^{2}}}\\\\\\sqrt{1 - z^{2}}\\end{matrix}\\right]$"
      ],
      "text/plain": [
       "⎡   -x⋅z     ⎤\n",
       "⎢────────────⎥\n",
       "⎢   _________⎥\n",
       "⎢  ╱  2    2 ⎥\n",
       "⎢╲╱  x  + y  ⎥\n",
       "⎢            ⎥\n",
       "⎢   -y⋅z     ⎥\n",
       "⎢────────────⎥\n",
       "⎢   _________⎥\n",
       "⎢  ╱  2    2 ⎥\n",
       "⎢╲╱  x  + y  ⎥\n",
       "⎢            ⎥\n",
       "⎢   ________ ⎥\n",
       "⎢  ╱      2  ⎥\n",
       "⎣╲╱  1 - z   ⎦"
      ]
     },
     "metadata": {},
     "output_type": "display_data"
    },
    {
     "name": "stdout",
     "output_type": "stream",
     "text": [
      "e2 in xyz: \n"
     ]
    },
    {
     "data": {
      "image/png": "[encoded data removed]",
      "text/latex": [
       "$\\displaystyle \\left[\\begin{matrix}- \\frac{y \\sqrt{1 - z^{2}}}{\\sqrt{x^{2} + y^{2}}}\\\\\\frac{x \\sqrt{1 - z^{2}}}{\\sqrt{x^{2} + y^{2}}}\\\\0\\end{matrix}\\right]$"
      ],
      "text/plain": [
       "⎡      ________ ⎤\n",
       "⎢     ╱      2  ⎥\n",
       "⎢-y⋅╲╱  1 - z   ⎥\n",
       "⎢───────────────⎥\n",
       "⎢     _________ ⎥\n",
       "⎢    ╱  2    2  ⎥\n",
       "⎢  ╲╱  x  + y   ⎥\n",
       "⎢               ⎥\n",
       "⎢      ________ ⎥\n",
       "⎢     ╱      2  ⎥\n",
       "⎢ x⋅╲╱  1 - z   ⎥\n",
       "⎢ ───────────── ⎥\n",
       "⎢     _________ ⎥\n",
       "⎢    ╱  2    2  ⎥\n",
       "⎢  ╲╱  x  + y   ⎥\n",
       "⎢               ⎥\n",
       "⎣       0       ⎦"
      ]
     },
     "metadata": {},
     "output_type": "display_data"
    },
    {
     "name": "stdout",
     "output_type": "stream",
     "text": [
      "n in xyz: \n"
     ]
    },
    {
     "data": {
      "image/png": "[encoded data removed]",
      "text/latex": [
       "$\\displaystyle \\left[\\begin{matrix}- \\frac{x \\sqrt{1 - z^{2}}}{\\sqrt{x^{2} + y^{2}}}\\\\- \\frac{y \\sqrt{1 - z^{2}}}{\\sqrt{x^{2} + y^{2}}}\\\\- \\frac{\\sin{\\left(2 \\operatorname{asin}{\\left(z \\right)} \\right)}}{2 \\sqrt{1 - z^{2}}}\\end{matrix}\\right]$"
      ],
      "text/plain": [
       "⎡      ________  ⎤\n",
       "⎢     ╱      2   ⎥\n",
       "⎢-x⋅╲╱  1 - z    ⎥\n",
       "⎢─────────────── ⎥\n",
       "⎢     _________  ⎥\n",
       "⎢    ╱  2    2   ⎥\n",
       "⎢  ╲╱  x  + y    ⎥\n",
       "⎢                ⎥\n",
       "⎢      ________  ⎥\n",
       "⎢     ╱      2   ⎥\n",
       "⎢-y⋅╲╱  1 - z    ⎥\n",
       "⎢─────────────── ⎥\n",
       "⎢     _________  ⎥\n",
       "⎢    ╱  2    2   ⎥\n",
       "⎢  ╲╱  x  + y    ⎥\n",
       "⎢                ⎥\n",
       "⎢-sin(2⋅asin(z)) ⎥\n",
       "⎢────────────────⎥\n",
       "⎢      ________  ⎥\n",
       "⎢     ╱      2   ⎥\n",
       "⎣ 2⋅╲╱  1 - z    ⎦"
      ]
     },
     "metadata": {},
     "output_type": "display_data"
    },
    {
     "name": "stdout",
     "output_type": "stream",
     "text": [
      "J e1 in xyz coordinates: \n"
     ]
    },
    {
     "data": {
      "image/png": "[encoded data removed]",
      "text/latex": [
       "$\\displaystyle \\left[\\begin{matrix}- \\frac{y^{2} z}{\\left(x^{2} + y^{2}\\right)^{\\frac{3}{2}}} & \\frac{x y z}{\\left(x^{2} + y^{2}\\right)^{\\frac{3}{2}}} & 0\\\\\\frac{x y z}{\\left(x^{2} + y^{2}\\right)^{\\frac{3}{2}}} & - \\frac{x^{2} z}{\\left(x^{2} + y^{2}\\right)^{\\frac{3}{2}}} & 0\\\\- \\frac{x}{\\sqrt{x^{2} + y^{2}}} & - \\frac{y}{\\sqrt{x^{2} + y^{2}}} & - \\frac{z}{\\sqrt{1 - z^{2}}}\\end{matrix}\\right]$"
      ],
      "text/plain": [
       "⎡     2                                 ⎤\n",
       "⎢   -y ⋅z         x⋅y⋅z                 ⎥\n",
       "⎢────────────  ────────────       0     ⎥\n",
       "⎢         3/2           3/2             ⎥\n",
       "⎢⎛ 2    2⎞     ⎛ 2    2⎞                ⎥\n",
       "⎢⎝x  + y ⎠     ⎝x  + y ⎠                ⎥\n",
       "⎢                                       ⎥\n",
       "⎢                   2                   ⎥\n",
       "⎢   x⋅y⋅z         -x ⋅z                 ⎥\n",
       "⎢────────────  ────────────       0     ⎥\n",
       "⎢         3/2           3/2             ⎥\n",
       "⎢⎛ 2    2⎞     ⎛ 2    2⎞                ⎥\n",
       "⎢⎝x  + y ⎠     ⎝x  + y ⎠                ⎥\n",
       "⎢                                       ⎥\n",
       "⎢    -x            -y            -z     ⎥\n",
       "⎢────────────  ────────────  ───────────⎥\n",
       "⎢   _________     _________     ________⎥\n",
       "⎢  ╱  2    2     ╱  2    2     ╱      2 ⎥\n",
       "⎣╲╱  x  + y    ╲╱  x  + y    ╲╱  1 - z  ⎦"
      ]
     },
     "metadata": {},
     "output_type": "display_data"
    }
   ],
   "source": [
    "\n",
    "def uv_to_xyz(e):\n",
    "    return e.subs(u, xyz[u]).subs(v, xyz[v])\n",
    "\n",
    "print(\"e1 in xyz: \")\n",
    "display(uv_to_xyz(e1))\n",
    "print(\"e2 in xyz: \")\n",
    "display(uv_to_xyz(e2))\n",
    "print(\"n in xyz: \")\n",
    "display(uv_to_xyz(n))\n",
    "\n",
    "J_e1_x = simplify(uv_to_xyz(e1).diff(x))\n",
    "J_e1_y = simplify(uv_to_xyz(e1).diff(y))\n",
    "J_e1_z = simplify(uv_to_xyz(e1).diff(z))\n",
    "\n",
    "# rate of change of e1 in xyz coordinates\n",
    "J_e1 = Matrix([J_e1_x, J_e1_y, J_e1_z]).reshape(3, 3)\n",
    "print(\"J e1 in xyz coordinates: \")\n",
    "display(J_e1)\n"
   ]
  },
  {
   "cell_type": "code",
   "execution_count": 7,
   "id": "a2b3d9fe",
   "metadata": {},
   "outputs": [
    {
     "data": {
      "image/png": "[encoded data removed]",
      "text/latex": [
       "$\\displaystyle \\left[\\begin{matrix}0\\\\0\\\\\\frac{x^{2} \\sqrt{1 - z^{2}}}{x^{2} + y^{2}} + \\frac{y^{2} \\sqrt{1 - z^{2}}}{x^{2} + y^{2}} + \\frac{z \\sin{\\left(2 \\operatorname{asin}{\\left(z \\right)} \\right)}}{2 \\left(1 - z^{2}\\right)}\\end{matrix}\\right]$"
      ],
      "text/plain": [
       "⎡                        0                         ⎤\n",
       "⎢                                                  ⎥\n",
       "⎢                        0                         ⎥\n",
       "⎢                                                  ⎥\n",
       "⎢      ________         ________                   ⎥\n",
       "⎢ 2   ╱      2     2   ╱      2                    ⎥\n",
       "⎢x ⋅╲╱  1 - z     y ⋅╲╱  1 - z     z⋅sin(2⋅asin(z))⎥\n",
       "⎢────────────── + ────────────── + ────────────────⎥\n",
       "⎢    2    2           2    2            ⎛     2⎞   ⎥\n",
       "⎣   x  + y           x  + y           2⋅⎝1 - z ⎠   ⎦"
      ]
     },
     "execution_count": 7,
     "metadata": {},
     "output_type": "execute_result"
    }
   ],
   "source": [
    "J_e1 @ uv_to_xyz(n) # component of rate of change of e1 along normal"
   ]
  },
  {
   "cell_type": "code",
   "execution_count": 8,
   "id": "ddc01281",
   "metadata": {},
   "outputs": [
    {
     "name": "stdout",
     "output_type": "stream",
     "text": [
      "gamma_e1_e1: \n"
     ]
    },
    {
     "data": {
      "image/png": "[encoded data removed]",
      "text/latex": [
       "$\\displaystyle \\left[\\begin{matrix}\\frac{y z \\left(- x \\sin{\\left(v \\right)} + y \\cos{\\left(v \\right)}\\right) \\sin{\\left(u \\right)}}{\\left(x^{2} + y^{2}\\right)^{\\frac{3}{2}}}\\\\\\frac{x z \\left(x \\sin{\\left(v \\right)} - y \\cos{\\left(v \\right)}\\right) \\sin{\\left(u \\right)}}{\\left(x^{2} + y^{2}\\right)^{\\frac{3}{2}}}\\\\\\frac{x \\sin{\\left(u \\right)} \\cos{\\left(v \\right)}}{\\sqrt{x^{2} + y^{2}}} + \\frac{y \\sin{\\left(u \\right)} \\sin{\\left(v \\right)}}{\\sqrt{x^{2} + y^{2}}} - \\frac{z \\cos{\\left(u \\right)}}{\\sqrt{1 - z^{2}}}\\end{matrix}\\right]$"
      ],
      "text/plain": [
       "⎡       y⋅z⋅(-x⋅sin(v) + y⋅cos(v))⋅sin(u)       ⎤\n",
       "⎢       ─────────────────────────────────       ⎥\n",
       "⎢                           3/2                 ⎥\n",
       "⎢                  ⎛ 2    2⎞                    ⎥\n",
       "⎢                  ⎝x  + y ⎠                    ⎥\n",
       "⎢                                               ⎥\n",
       "⎢       x⋅z⋅(x⋅sin(v) - y⋅cos(v))⋅sin(u)        ⎥\n",
       "⎢       ────────────────────────────────        ⎥\n",
       "⎢                          3/2                  ⎥\n",
       "⎢                 ⎛ 2    2⎞                     ⎥\n",
       "⎢                 ⎝x  + y ⎠                     ⎥\n",
       "⎢                                               ⎥\n",
       "⎢x⋅sin(u)⋅cos(v)   y⋅sin(u)⋅sin(v)     z⋅cos(u) ⎥\n",
       "⎢─────────────── + ─────────────── - ───────────⎥\n",
       "⎢     _________         _________       ________⎥\n",
       "⎢    ╱  2    2         ╱  2    2       ╱      2 ⎥\n",
       "⎣  ╲╱  x  + y        ╲╱  x  + y      ╲╱  1 - z  ⎦"
      ]
     },
     "metadata": {},
     "output_type": "display_data"
    },
    {
     "name": "stdout",
     "output_type": "stream",
     "text": [
      "gamma_e1_e1_e1:\n"
     ]
    },
    {
     "data": {
      "image/png": "[encoded data removed]",
      "text/latex": [
       "$\\displaystyle \\frac{- z \\sqrt{1 - z^{2}} \\left(x \\sin{\\left(v \\right)} - y \\cos{\\left(v \\right)}\\right)^{2} \\sin^{2}{\\left(u \\right)} + \\left(x^{2} + y^{2}\\right) \\left(- z \\sqrt{x^{2} + y^{2}} \\cos{\\left(u \\right)} + \\sqrt{1 - z^{2}} \\left(x \\cos{\\left(v \\right)} + y \\sin{\\left(v \\right)}\\right) \\sin{\\left(u \\right)}\\right) \\cos{\\left(u \\right)}}{\\sqrt{1 - z^{2}} \\left(x^{2} + y^{2}\\right)^{\\frac{3}{2}}}$"
      ],
      "text/plain": [
       "       ________                                            ⎛       _________  \n",
       "      ╱      2                       2    2      ⎛ 2    2⎞ ⎜      ╱  2    2   \n",
       "- z⋅╲╱  1 - z  ⋅(x⋅sin(v) - y⋅cos(v)) ⋅sin (u) + ⎝x  + y ⎠⋅⎝- z⋅╲╱  x  + y  ⋅c\n",
       "──────────────────────────────────────────────────────────────────────────────\n",
       "                                                          ________          3/\n",
       "                                                         ╱      2  ⎛ 2    2⎞  \n",
       "                                                       ╲╱  1 - z  ⋅⎝x  + y ⎠  \n",
       "\n",
       "           ________                             ⎞       \n",
       "          ╱      2                              ⎟       \n",
       "os(u) + ╲╱  1 - z  ⋅(x⋅cos(v) + y⋅sin(v))⋅sin(u)⎠⋅cos(u)\n",
       "────────────────────────────────────────────────────────\n",
       "2                                                       \n",
       "                                                        \n",
       "                                                        "
      ]
     },
     "metadata": {},
     "output_type": "display_data"
    },
    {
     "name": "stdout",
     "output_type": "stream",
     "text": [
      "gamma_e1_e1_e2 \n"
     ]
    },
    {
     "data": {
      "image/png": "[encoded data removed]",
      "text/latex": [
       "$\\displaystyle \\frac{z \\left(x \\sin{\\left(v \\right)} - y \\cos{\\left(v \\right)}\\right) \\left(x \\cos{\\left(v \\right)} + y \\sin{\\left(v \\right)}\\right) \\sin{\\left(u \\right)} \\cos{\\left(u \\right)}}{\\left(x^{2} + y^{2}\\right)^{\\frac{3}{2}}}$"
      ],
      "text/plain": [
       "z⋅(x⋅sin(v) - y⋅cos(v))⋅(x⋅cos(v) + y⋅sin(v))⋅sin(u)⋅cos(u)\n",
       "───────────────────────────────────────────────────────────\n",
       "                                 3/2                       \n",
       "                        ⎛ 2    2⎞                          \n",
       "                        ⎝x  + y ⎠                          "
      ]
     },
     "metadata": {},
     "output_type": "display_data"
    }
   ],
   "source": [
    "gamma_e1_e1 = simplify(J_e1 @ e1) # vector: rate of change of e1 along e2. Lies in tangent plane\n",
    "print(\"gamma_e1_e1: \")\n",
    "display(gamma_e1_e1)\n",
    "gamma_e1_e1_e1 = simplify(gamma_e1_e1.dot(e1)) # component of (gamma_e1_e1)\n",
    "gamma_e1_e1_e2 = simplify(gamma_e1_e1.dot(e2)) # component of (gamma_e1_e1) along e2\n",
    "print(\"gamma_e1_e1_e1:\")\n",
    "display(gamma_e1_e1_e1)\n",
    "print(\"gamma_e1_e1_e2 \")\n",
    "display(gamma_e1_e1_e2)"
   ]
  },
  {
   "cell_type": "code",
   "execution_count": 9,
   "id": "d9cac1b3",
   "metadata": {},
   "outputs": [
    {
     "name": "stdout",
     "output_type": "stream",
     "text": [
      "J_e0:\n"
     ]
    },
    {
     "data": {
      "image/png": "[encoded data removed]",
      "text/latex": [
       "$\\displaystyle \\left[\\begin{matrix}- \\frac{\\sin{\\left(u \\right)} \\sin^{2}{\\left(v \\right)}}{\\sqrt{\\cos^{2}{\\left(u \\right)}}} & \\frac{\\sqrt{2} \\left(\\cos{\\left(u - 2 v \\right)} - \\cos{\\left(u + 2 v \\right)}\\right)}{4 \\sqrt{\\cos{\\left(2 u \\right)} + 1}} & 0\\\\\\frac{\\sqrt{2} \\left(\\cos{\\left(u - 2 v \\right)} - \\cos{\\left(u + 2 v \\right)}\\right)}{4 \\sqrt{\\cos{\\left(2 u \\right)} + 1}} & - \\frac{\\sin{\\left(u \\right)} \\cos^{2}{\\left(v \\right)}}{\\sqrt{\\cos^{2}{\\left(u \\right)}}} & 0\\\\- \\frac{\\cos{\\left(u \\right)} \\cos{\\left(v \\right)}}{\\sqrt{\\cos^{2}{\\left(u \\right)}}} & - \\frac{\\sin{\\left(v \\right)} \\cos{\\left(u \\right)}}{\\sqrt{\\cos^{2}{\\left(u \\right)}}} & - \\frac{\\sin{\\left(u \\right)}}{\\sqrt{\\cos^{2}{\\left(u \\right)}}}\\end{matrix}\\right]$"
      ],
      "text/plain": [
       "⎡                   2                                                         \n",
       "⎢        -sin(u)⋅sin (v)           √2⋅(cos(u - 2⋅v) - cos(u + 2⋅v))           \n",
       "⎢        ────────────────          ────────────────────────────────       0   \n",
       "⎢             _________                       ______________                  \n",
       "⎢            ╱    2                       4⋅╲╱ cos(2⋅u) + 1                   \n",
       "⎢          ╲╱  cos (u)                                                        \n",
       "⎢                                                                             \n",
       "⎢                                                     2                       \n",
       "⎢√2⋅(cos(u - 2⋅v) - cos(u + 2⋅v))          -sin(u)⋅cos (v)                    \n",
       "⎢────────────────────────────────          ────────────────               0   \n",
       "⎢           ______________                      _________                     \n",
       "⎢       4⋅╲╱ cos(2⋅u) + 1                      ╱    2                         \n",
       "⎢                                            ╲╱  cos (u)                      \n",
       "⎢                                                                             \n",
       "⎢        -cos(u)⋅cos(v)                    -sin(v)⋅cos(u)              -sin(u)\n",
       "⎢        ───────────────                   ───────────────           ─────────\n",
       "⎢             _________                         _________               ______\n",
       "⎢            ╱    2                            ╱    2                  ╱    2 \n",
       "⎣          ╲╱  cos (u)                       ╲╱  cos (u)             ╲╱  cos (\n",
       "\n",
       "   ⎤\n",
       "   ⎥\n",
       "   ⎥\n",
       "   ⎥\n",
       "   ⎥\n",
       "   ⎥\n",
       "   ⎥\n",
       "   ⎥\n",
       "   ⎥\n",
       "   ⎥\n",
       "   ⎥\n",
       "   ⎥\n",
       "   ⎥\n",
       "   ⎥\n",
       "   ⎥\n",
       "───⎥\n",
       "___⎥\n",
       "   ⎥\n",
       "u) ⎦"
      ]
     },
     "metadata": {},
     "output_type": "display_data"
    },
    {
     "name": "stdout",
     "output_type": "stream",
     "text": [
      "gamma[0][0][0]:\n"
     ]
    },
    {
     "data": {
      "image/png": "[encoded data removed]",
      "text/latex": [
       "$\\displaystyle 0$"
      ],
      "text/plain": [
       "0"
      ]
     },
     "metadata": {},
     "output_type": "display_data"
    },
    {
     "name": "stdout",
     "output_type": "stream",
     "text": [
      "gamma[0][0][1]:\n"
     ]
    },
    {
     "data": {
      "image/png": "[encoded data removed]",
      "text/latex": [
       "$\\displaystyle 0$"
      ],
      "text/plain": [
       "0"
      ]
     },
     "metadata": {},
     "output_type": "display_data"
    },
    {
     "name": "stdout",
     "output_type": "stream",
     "text": [
      "gamma[0][1][0]:\n"
     ]
    },
    {
     "data": {
      "image/png": "[encoded data removed]",
      "text/latex": [
       "$\\displaystyle 0$"
      ],
      "text/plain": [
       "0"
      ]
     },
     "metadata": {},
     "output_type": "display_data"
    },
    {
     "name": "stdout",
     "output_type": "stream",
     "text": [
      "gamma[0][1][1]:\n"
     ]
    },
    {
     "data": {
      "image/png": "[encoded data removed]",
      "text/latex": [
       "$\\displaystyle - \\sqrt{\\cos^{2}{\\left(u \\right)}} \\sin{\\left(u \\right)}$"
      ],
      "text/plain": [
       "    _________       \n",
       "   ╱    2           \n",
       "-╲╱  cos (u) ⋅sin(u)"
      ]
     },
     "metadata": {},
     "output_type": "display_data"
    },
    {
     "name": "stdout",
     "output_type": "stream",
     "text": [
      "J_e1:\n"
     ]
    },
    {
     "data": {
      "image/png": "[encoded data removed]",
      "text/latex": [
       "$\\displaystyle \\left[\\begin{matrix}\\frac{\\sin{\\left(2 v \\right)}}{2} & \\sin^{2}{\\left(v \\right)} & 0\\\\- \\cos^{2}{\\left(v \\right)} & - \\frac{\\sin{\\left(2 v \\right)}}{2} & 0\\\\\\sin{\\left(v \\right)} \\tan{\\left(u \\right)} & - \\cos{\\left(v \\right)} \\tan{\\left(u \\right)} & 0\\end{matrix}\\right]$"
      ],
      "text/plain": [
       "⎡  sin(2⋅v)           2          ⎤\n",
       "⎢  ────────        sin (v)      0⎥\n",
       "⎢     2                          ⎥\n",
       "⎢                                ⎥\n",
       "⎢      2          -sin(2⋅v)      ⎥\n",
       "⎢  -cos (v)       ──────────    0⎥\n",
       "⎢                     2          ⎥\n",
       "⎢                                ⎥\n",
       "⎣sin(v)⋅tan(u)  -cos(v)⋅tan(u)  0⎦"
      ]
     },
     "metadata": {},
     "output_type": "display_data"
    },
    {
     "name": "stdout",
     "output_type": "stream",
     "text": [
      "gamma[1][0][0]:\n"
     ]
    },
    {
     "data": {
      "image/png": "[encoded data removed]",
      "text/latex": [
       "$\\displaystyle 0$"
      ],
      "text/plain": [
       "0"
      ]
     },
     "metadata": {},
     "output_type": "display_data"
    },
    {
     "name": "stdout",
     "output_type": "stream",
     "text": [
      "gamma[1][0][1]:\n"
     ]
    },
    {
     "data": {
      "image/png": "[encoded data removed]",
      "text/latex": [
       "$\\displaystyle - \\frac{\\sin{\\left(2 u \\right)}}{2}$"
      ],
      "text/plain": [
       "-sin(2⋅u) \n",
       "──────────\n",
       "    2     "
      ]
     },
     "metadata": {},
     "output_type": "display_data"
    },
    {
     "name": "stdout",
     "output_type": "stream",
     "text": [
      "gamma[1][1][0]:\n"
     ]
    },
    {
     "data": {
      "image/png": "[encoded data removed]",
      "text/latex": [
       "$\\displaystyle \\frac{\\sin{\\left(2 u \\right)}}{2}$"
      ],
      "text/plain": [
       "sin(2⋅u)\n",
       "────────\n",
       "   2    "
      ]
     },
     "metadata": {},
     "output_type": "display_data"
    },
    {
     "name": "stdout",
     "output_type": "stream",
     "text": [
      "gamma[1][1][1]:\n"
     ]
    },
    {
     "data": {
      "image/png": "[encoded data removed]",
      "text/latex": [
       "$\\displaystyle 0$"
      ],
      "text/plain": [
       "0"
      ]
     },
     "metadata": {},
     "output_type": "display_data"
    }
   ],
   "source": [
    "def xyz_to_uv(e):\n",
    "    return e.subs(x, uv[x]).subs(y, uv[y]).subs(z, uv[z])\n",
    "\n",
    "gamma = [[[None for _ in range(2)] for _ in range(2)] for _ in range(2)]\n",
    "# gamma[i][j][k]: component of d(ei)/dej along ek \n",
    "es = [e1, e2]\n",
    "for i in range(2):\n",
    "    J_ei_x = simplify(uv_to_xyz(es[i]).diff(x))\n",
    "    J_ei_y = simplify(uv_to_xyz(es[i]).diff(y))\n",
    "    J_ei_z = simplify(uv_to_xyz(es[i]).diff(z))\n",
    "    # rate of change of e1 in xyz coordinates\n",
    "    J_ei = Matrix([J_ei_x, J_ei_y, J_ei_z]).reshape(3, 3)\n",
    "    print(f\"J_e{i}:\")\n",
    "    display(simplify(xyz_to_uv(J_ei)))\n",
    "    for j in range(2):\n",
    "        for k in range(2):\n",
    "            gamma[i][j][k] = simplify(es[j].T @ J_ei @ es[k])[0]\n",
    "            gamma[i][j][k] = simplify(xyz_to_uv(gamma[i][j][k]))\n",
    "            print(f\"gamma[{i}][{j}][{k}]:\")\n",
    "            display(gamma[i][j][k])"
   ]
  },
  {
   "cell_type": "code",
   "execution_count": 10,
   "id": "b6297902",
   "metadata": {},
   "outputs": [],
   "source": [
    "# del_T Y: for some tangent vector T for vector field Y, find gradient of vector field Y along T at each point \n",
    "# te1, e2, xe1, xe2 are expressions in terms of u and v\n",
    "# returns a two tuple of coordinates. Entirely intrinsic, in that sense.\n",
    "def covariant_derivative_by_projection(Te1, Te2, Ye1, Ye2):\n",
    "    T = Matrix((Te1, Te1))\n",
    "    Y = Matrix((Ye1, Ye2))\n",
    "    J_Y_x = simplify(uv_to_xyz(Y).diff(x))\n",
    "    J_Y_y = simplify(uv_to_xyz(Y).diff(y))\n",
    "    J_Y_z = simplify(uv_to_xyz(Y).diff(z))\n",
    "    J_Y = Matrix([J_Y_x, J_Y_y, J_Y_z]).reshape(3, 3)\n",
    "    return simplify(J_Y @ T)\n",
    "\n",
    "# returns a two tuple of coordinates.\n",
    "def covariant_derivative_by_gamma(Te1, Te2, Ye1, Ye2):\n",
    "    T = Matrix((Te1, Te1))\n",
    "    Y = Matrix((Ye1, Ye2))\n",
    "    # del_{Ti ei} (Yj ej)\n",
    "    \n",
    "    # = del_{Te1 e1} (Yj ej) +\n",
    "    #   del_{Te2 e2} (Yj ej)\n",
    "    \n",
    "    # = del_{Te1 e1} (Ye1 e1) + del_{Te1 e1} (Ye2 e2) \n",
    "    #   del_{Te2 e2} (Ye1 e1) + del_{Te2 e2} (Ye2 e2)\n",
    "    \n",
    "    # = Te1 (del_{e1} (Ye1) + Y1 del_{e1}(e1)) + Te1 (del_{e1}(Y)e2 + Ye2 del_{e1}(e2) )\n",
    "    #   del_{Te2 e2} (Ye1 e1) + del_{Te2 e2} (Ye2 e2)\n",
    "    \n",
    "    J_Y_e1 = Y.diff(u) # because e1 = p.diff(u) / e1 = d/du\n",
    "    J_Y_e2 = Y.diff(v) # because e2 = p.diff(v) / e2 = d/dv\n",
    "    \n",
    "    out_u = 0; out_v = 0;\n",
    "    out_u +=  Te1 * Ye1 * gamma_e1_e1_e1\n",
    "    out_u +=  Te1 * Ye1 * gamma_e1_e2_e1\n",
    "    out_u +=  Te1 * Ye1 * gamma_e2_e1_e1\n",
    "    out_u +=  Te1 * Ye1 * gamma_e2_e2_e1\n",
    "    out_u += Te1 * J_Y_e1\n",
    "    \n",
    "    out_v +=  Te2 * Ye2 * gamma_e1_e1_e2\n",
    "    out_v +=  Te2 * Ye2 * gamma_e1_e2_e2\n",
    "    out_v +=  Te2 * Ye2 * gamma_e2_e1_e2\n",
    "    out_v +=  Te2 * Ye2 * gamma_e2_e2_e2\n",
    "    out_v += Te2 * J_Y_e2\n",
    "    return (simplify(out_u), simplify(out_v))\n",
    "    "
   ]
  },
  {
   "cell_type": "code",
   "execution_count": null,
   "id": "6aa3ea58",
   "metadata": {},
   "outputs": [],
   "source": []
  }
 ],
 "metadata": {
  "kernelspec": {
   "display_name": "Python 3",
   "language": "python",
   "name": "python3"
  },
  "language_info": {
   "codemirror_mode": {
    "name": "ipython",
    "version": 3
   },
   "file_extension": ".py",
   "mimetype": "text/x-python",
   "name": "python",
   "nbconvert_exporter": "python",
   "pygments_lexer": "ipython3",
   "version": "3.9.7"
  }
 },
 "nbformat": 4,
 "nbformat_minor": 5
}
