{
 "cells": [
  {
   "cell_type": "markdown",
   "id": "15ec2146",
   "metadata": {},
   "source": [
    "# Geodesics and covariant derivative\n",
    "\n",
    "- [Videos by eigenchris](https://www.youtube.com/watch?v=1CuTNveXJRc&list=PLJHszsWbB6hpk5h8lSfBkVrpjsqvUGTCx&index=17)\n",
    "\n",
    "\n",
    "$$\n",
    "\\begin{align*}\n",
    "\\nabla_{u}(v) \\\\\n",
    "= \\nabla{a^i \\partial_i}(b^j \\partial_j) \\\\\n",
    "= a_i \\nabla_{\\partial i}(b^j \\partial_j) \\\\\n",
    "= a_i (\\nabla_{\\partial_i}[b^j] \\partial_j + b^j  \\nabla_{\\partial_i}[\\partial_j]) \\\\\n",
    "= a_i (\\nabla_{\\partial_i}[b^j] \\partial_j + b^j  \\Gamma^k_{ij} \\partial_k) \\\\\n",
    "= a_i (\\partial_i[b^j] \\partial_j + b^j  \\Gamma^k_{ij} \\partial_k) \\\\\n",
    "= a_i (\\partial_i[b^k] \\partial_k + b^j  \\Gamma^k_{ij} \\partial_k) \\\\\n",
    "= a_i (\\partial_i[b^k] + b^j  \\Gamma^k_{ij}) \\partial_k\\\\\n",
    "\\end{align*}\n",
    "$$"
   ]
  }
 ],
 "metadata": {
  "kernelspec": {
   "display_name": "Python 3",
   "language": "python",
   "name": "python3"
  },
  "language_info": {
   "codemirror_mode": {
    "name": "ipython",
    "version": 3
   },
   "file_extension": ".py",
   "mimetype": "text/x-python",
   "name": "python",
   "nbconvert_exporter": "python",
   "pygments_lexer": "ipython3",
   "version": "3.9.7"
  }
 },
 "nbformat": 4,
 "nbformat_minor": 5
}
