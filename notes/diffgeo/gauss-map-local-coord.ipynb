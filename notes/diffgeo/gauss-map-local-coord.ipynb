{
 "cells": [
  {
   "cell_type": "markdown",
   "id": "65d7dc4a",
   "metadata": {},
   "source": [
    "# Do Carmo Chapter 3: Gauss Map in Local coordinates"
   ]
  }
 ],
 "metadata": {
  "kernelspec": {
   "display_name": "Python 3",
   "language": "python",
   "name": "python3"
  },
  "language_info": {
   "codemirror_mode": {
    "name": "ipython",
    "version": 3
   },
   "file_extension": ".py",
   "mimetype": "text/x-python",
   "name": "python",
   "nbconvert_exporter": "python",
   "pygments_lexer": "ipython3",
   "version": "3.9.7"
  }
 },
 "nbformat": 4,
 "nbformat_minor": 5
}
