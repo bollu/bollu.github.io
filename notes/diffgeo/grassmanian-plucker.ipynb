{
 "cells": [
  {
   "cell_type": "code",
   "execution_count": 2,
   "id": "f7b60ab9",
   "metadata": {},
   "outputs": [],
   "source": [
    "from sympy import *\n",
    "import itertools\n",
    "init_printing()"
   ]
  },
  {
   "cell_type": "code",
   "execution_count": 3,
   "id": "ca8b36b9",
   "metadata": {},
   "outputs": [],
   "source": [
    "Px, Py, Pz, Pw, Qx, Qy, Qz, Qw = symbols(\"Px Py Pz Pw Qx Qy Qz Qw\")"
   ]
  },
  {
   "cell_type": "code",
   "execution_count": 4,
   "id": "1bcbb269",
   "metadata": {},
   "outputs": [
    {
     "name": "stdout",
     "output_type": "stream",
     "text": [
      "⎛⎡Px⎤  ⎡Qx⎤⎞\n",
      "⎜⎢  ⎥  ⎢  ⎥⎟\n",
      "⎜⎢Py⎥  ⎢Qy⎥⎟\n",
      "⎜⎢  ⎥, ⎢  ⎥⎟\n",
      "⎜⎢Pz⎥  ⎢Qz⎥⎟\n",
      "⎜⎢  ⎥  ⎢  ⎥⎟\n",
      "⎝⎣Pw⎦  ⎣Qw⎦⎠\n",
      "⎡Px  Qx⎤\n",
      "⎢      ⎥\n",
      "⎢Py  Qy⎥\n",
      "⎢      ⎥\n",
      "⎢Pz  Qz⎥\n",
      "⎢      ⎥\n",
      "⎣Pw  Qw⎦\n"
     ]
    }
   ],
   "source": [
    "P = Matrix([Px, Py, Pz, Pw])\n",
    "Q = Matrix([Qx, Qy, Qz, Qw])\n",
    "pprint((P, Q))\n",
    "PQ = P.row_join(Q)\n",
    "pprint(PQ)"
   ]
  },
  {
   "cell_type": "code",
   "execution_count": 5,
   "id": "26e95d17",
   "metadata": {},
   "outputs": [
    {
     "name": "stdout",
     "output_type": "stream",
     "text": [
      "##pairs of rows##\n",
      "[(0, 1), (0, 2), (0, 3), (1, 2), (1, 3), (2, 3)]\n"
     ]
    }
   ],
   "source": [
    "row_pairs = list(itertools.combinations(range(4), r=2)) # all pairs of rows\n",
    "pprint(\"##pairs of rows##\")\n",
    "pprint(row_pairs)\n"
   ]
  },
  {
   "cell_type": "code",
   "execution_count": 6,
   "id": "0f4e03ae",
   "metadata": {},
   "outputs": [
    {
     "name": "stdout",
     "output_type": "stream",
     "text": [
      "##plucker coord submatrices:##\n",
      "⎛        ⎡Px  Qx⎤⎞\n",
      "⎜(0, 1), ⎢      ⎥⎟\n",
      "⎝        ⎣Py  Qy⎦⎠\n",
      "⎛        ⎡Px  Qx⎤⎞\n",
      "⎜(0, 2), ⎢      ⎥⎟\n",
      "⎝        ⎣Pz  Qz⎦⎠\n",
      "⎛        ⎡Px  Qx⎤⎞\n",
      "⎜(0, 3), ⎢      ⎥⎟\n",
      "⎝        ⎣Pw  Qw⎦⎠\n",
      "⎛        ⎡Py  Qy⎤⎞\n",
      "⎜(1, 2), ⎢      ⎥⎟\n",
      "⎝        ⎣Pz  Qz⎦⎠\n",
      "⎛        ⎡Py  Qy⎤⎞\n",
      "⎜(1, 3), ⎢      ⎥⎟\n",
      "⎝        ⎣Pw  Qw⎦⎠\n",
      "⎛        ⎡Pz  Qz⎤⎞\n",
      "⎜(2, 3), ⎢      ⎥⎟\n",
      "⎝        ⎣Pw  Qw⎦⎠\n"
     ]
    }
   ],
   "source": [
    "plucker_rows_to_submat = { (r1, r2) : PQ.extract(rowsList=[r1, r2], colsList=[0, 1]) for (r1, r2) in row_pairs }\n",
    "pprint(\"##plucker coord submatrices:##\")\n",
    "for rows in plucker_rows_to_submat:\n",
    "    pprint((rows, plucker_rows_to_submat[rows]))"
   ]
  },
  {
   "cell_type": "code",
   "execution_count": 7,
   "id": "902dc494",
   "metadata": {},
   "outputs": [
    {
     "name": "stdout",
     "output_type": "stream",
     "text": [
      "##plucker coordinates:##\n",
      "⎡Px⋅Qy - Py⋅Qx ⎤\n",
      "⎢              ⎥\n",
      "⎢Px⋅Qz - Pz⋅Qx ⎥\n",
      "⎢              ⎥\n",
      "⎢-Pw⋅Qx + Px⋅Qw⎥\n",
      "⎢              ⎥\n",
      "⎢Py⋅Qz - Pz⋅Qy ⎥\n",
      "⎢              ⎥\n",
      "⎢-Pw⋅Qy + Py⋅Qw⎥\n",
      "⎢              ⎥\n",
      "⎣-Pw⋅Qz + Pz⋅Qw⎦\n"
     ]
    }
   ],
   "source": [
    "pprint(\"##plucker coordinates:##\")\n",
    "plucker_coords = Matrix([plucker_rows_to_submat[rows].det() for rows in plucker_rows_to_submat])\n",
    "pprint(plucker_coords)"
   ]
  },
  {
   "cell_type": "code",
   "execution_count": 8,
   "id": "c84c738c",
   "metadata": {},
   "outputs": [
    {
     "name": "stdout",
     "output_type": "stream",
     "text": [
      "plucker coordinates when w=1:\n",
      "⎡Px⋅Qy - Py⋅Qx⎤\n",
      "⎢             ⎥\n",
      "⎢Px⋅Qz - Pz⋅Qx⎥\n",
      "⎢             ⎥\n",
      "⎢   Px - Qx   ⎥\n",
      "⎢             ⎥\n",
      "⎢Py⋅Qz - Pz⋅Qy⎥\n",
      "⎢             ⎥\n",
      "⎢   Py - Qy   ⎥\n",
      "⎢             ⎥\n",
      "⎣   Pz - Qz   ⎦\n"
     ]
    }
   ],
   "source": [
    "plucker_coords_w1 = plucker_coords.subs(Pw, 1).subs(Qw, 1)\n",
    "pprint(\"plucker coordinates when w=1:\")\n",
    "pprint(plucker_coords_w1)"
   ]
  },
  {
   "cell_type": "code",
   "execution_count": 9,
   "id": "195bb51c",
   "metadata": {},
   "outputs": [
    {
     "name": "stdout",
     "output_type": "stream",
     "text": [
      "⎛⎡Px⎤  ⎡Qx⎤⎞\n",
      "⎜⎢  ⎥  ⎢  ⎥⎟\n",
      "⎜⎢Py⎥, ⎢Qy⎥⎟\n",
      "⎜⎢  ⎥  ⎢  ⎥⎟\n",
      "⎝⎣Pz⎦  ⎣Qz⎦⎠\n"
     ]
    }
   ],
   "source": [
    "Pxyz = Matrix(P[:3])\n",
    "Qxyz = Matrix(Q[:3])\n",
    "pprint((Pxyz, Qxyz))"
   ]
  },
  {
   "cell_type": "code",
   "execution_count": 10,
   "id": "72d5ff76",
   "metadata": {},
   "outputs": [
    {
     "name": "stdout",
     "output_type": "stream",
     "text": [
      "U_w1 :=defn= P - Q\n",
      "⎡Px - Qx⎤\n",
      "⎢       ⎥\n",
      "⎢Py - Qy⎥\n",
      "⎢       ⎥\n",
      "⎣Pz - Qz⎦\n"
     ]
    }
   ],
   "source": [
    "U_w1 = Pxyz - Qxyz # half of plucker coordinates when w=1\n",
    "pprint(\"U_w1 :=defn= P - Q\")\n",
    "pprint(U_w1)"
   ]
  },
  {
   "cell_type": "code",
   "execution_count": 11,
   "id": "3d533d1f",
   "metadata": {},
   "outputs": [
    {
     "name": "stdout",
     "output_type": "stream",
     "text": [
      "V_w1 :=defn= P x Q\n",
      "⎡Py⋅Qz - Pz⋅Qy ⎤\n",
      "⎢              ⎥\n",
      "⎢-Px⋅Qz + Pz⋅Qx⎥\n",
      "⎢              ⎥\n",
      "⎣Px⋅Qy - Py⋅Qx ⎦\n"
     ]
    }
   ],
   "source": [
    "V_w1 = Pxyz.cross(Qxyz)\n",
    "pprint(\"V_w1 :=defn= P x Q\")\n",
    "pprint(V_w1)"
   ]
  },
  {
   "cell_type": "code",
   "execution_count": 12,
   "id": "46a4cfc2",
   "metadata": {},
   "outputs": [
    {
     "name": "stdout",
     "output_type": "stream",
     "text": [
      "UV rows: \n",
      "{[Px - Qx], [Py - Qy], [Pz - Qz], [Px⋅Qy - Py⋅Qx], [-Px⋅Qz + Pz⋅Qx], [Py⋅Qz - \n",
      "Pz⋅Qy]}\n",
      "plucker coords rows: \n",
      "{[Px - Qx], [Py - Qy], [Pz - Qz], [Px⋅Qy - Py⋅Qx], [Px⋅Qz - Pz⋅Qx], [Py⋅Qz - P\n",
      "z⋅Qy]}\n",
      "difference in rows: \n",
      "{Matrix([[-Px*Qz + Pz*Qx]]), Matrix([[Px*Qz - Pz*Qx]])}\n"
     ]
    }
   ],
   "source": [
    "rows_UV = ([U_w1.row(i).as_immutable() for i in range(3)] + [V_w1.row(i).as_immutable() for i in range(3)])\n",
    "rows_UV = set(rows_UV)\n",
    "\n",
    "rows_plucker_coords = [plucker_coords_w1.row(i).as_immutable() for i in range(6)]\n",
    "rows_plucker_coords = set(rows_plucker_coords)\n",
    "\n",
    "pprint(\"UV rows: \")\n",
    "pprint(rows_UV)\n",
    "pprint(\"plucker coords rows: \")\n",
    "pprint(rows_plucker_coords)\n",
    "pprint(\"difference in rows: \")\n",
    "print(rows_UV.symmetric_difference(rows_plucker_coords))\n",
    "### TODO: fix the diference upto sign x("
   ]
  },
  {
   "cell_type": "markdown",
   "id": "58b70deb",
   "metadata": {},
   "source": [
    "- Suppose $P, Q$ lie on a line. Call $P_w, Q_w$ to be the version of the coordinates where $w=1$.\n",
    "- See that $U_w = P_w - Q_w$ gives the direction of the line.\n",
    "- See that $V_w = P_w \\times Q_w$ is perpendicular to the plane containing $\\{P, Q, \\texttt{origin} \\}$."
   ]
  },
  {
   "cell_type": "markdown",
   "id": "f3dd505e",
   "metadata": {},
   "source": [
    "# Projective Space $RP(n)$: Lines in $(n+1)$ dimensional space.\n",
    "\n",
    "- ** Slogan** $RP(n)$ parametrizes lines in $\\mathbb R^{n+1}$. \n",
    "\n",
    "#### Pondering the indexing scheme\n",
    "- Let's try to make $RP(0)$ be lines in $\\mathbb R^0$. \n",
    "- Does $\\mathbb R^0$ have lines? No it doesn't, not non-degenerate ones, because a line has two points, while $\\mathbb R^0 = \\{ \\star \\}$ has only one point.\n",
    "- So, we say that $RP(0)$ parametrizes lines in $\\mathbb R^1$. What is a line in $\\mathbb R^1$? Well, we have only one \"direction\"! How do we know this? Well, two points lie on the same line if they are a scalar multiple of each other. So we impose an equivalence relation on $\\mathbb R-\\{0 \\}$ given by $x \\sim y$ iff $\\exists \\lambda \\in \\mathbb R$ such that $y = \\lambda x$.\n",
    "- Alternatively, given some non-origin point $x \\in \\mathbb R-\\{0\\}$, we can consider the line passing through $x$ and the origin.\n",
    "- Regardless, in either construction, the entire space collapses to a single point. Thus $RP(0)$, the space of lines of $\\mathbb R^1$, is zero dimensional.\n",
    "\n",
    "#### Relationship between $RP(2)$ and the $2$ sphere $S^2$:\n",
    "\n",
    "- We have another way to think about this: $RP(2)$, which parametrizes lines in $3D$ space, can be seen as \"half\" of the 2-sphere $S^2 \\in \\mathbb R^3$. Thus the dimension of $RP(n)$ and $S(n)$ are the same $n$. They both happen to \"describe\" $\\mathbb R^{n+1}$.\n",
    "\n",
    "#### $RP(2)$ as a two dimensional manifold\n",
    "- We use $RP(n)$ because as a manifold, each chart of $RP(n)$ has $n$ coordinates. For $RP(2)$, we send points in $\\mathbb R^3-\\{0\\}$ to 2 dimensional subspaces via three charts:\n",
    "\n",
    "$$\n",
    "\\begin{align*}\n",
    "[x, y, z] \\mapsto \n",
    "\\begin{cases} \n",
    "(1, y/x, z/x) \\simeq (y/x, z/x) \\subseteq \\mathbb R^2 & x \\neq 0 \\\\\n",
    "(x/y, 1, z/y) \\simeq (x/y, z/y) \\subseteq R^2 & y \\neq 0 \\\\\n",
    "(1, y/x, z/x) \\simeq (y/x, z/x) \\subseteq R^2 & z \\neq 0 \\\\\n",
    "\\end{cases}\n",
    "\\end{align*}\n",
    "$$\n",
    "- Thus as a manifold $RP(2)$ is a 2 dimensional manifold!"
   ]
  },
  {
   "cell_type": "markdown",
   "id": "02954903",
   "metadata": {},
   "source": [
    "# Parametrizing lines in 3D\n",
    "\n",
    "- Recall that projective space $RP(n)$: parametrize lines through origin of  $\\mathbb R^{n+1}$.\n",
    "- What about all lines in $\\mathbb R^3$? not just through origin? Write such a line as intersection of two _planes_ in $\\mathbb R^3$.\n",
    "- How to parametrize planes? Planes are parametrized by $(r \\in \\mathbb R^3, d \\in \\mathbb R^1)$ --- ie the eqn: $\\texttt{Plane}(r, d) \\equiv \\{ x \\in \\mathbb R^3 ~\\mid~  r.x = d \\}$\n",
    "- The parametrization of lines as on intersection of two planes has redundancies. Why? well, suppose we\n",
    "  two planes, variable in $x$:\n",
    "\n",
    "\n",
    "\\begin{align*}\n",
    "&r1.x = d1 \\\\\n",
    "&r2.x = d2 \\\\\n",
    "&\\text{equivalent to:} \\\\\n",
    "&r1.x - d1 = 0 \\\\\n",
    "&r2.x - d2 = 0 \\\\\n",
    "&\\text{equivalent to:} \\\\\n",
    "&(r1, -d1).(x, 1) = 0 \\\\\n",
    "&(r2, -d2).(x, 1) = 0 \\\\\n",
    "\\end{align*}\n",
    "\n",
    "- It says that $(x, 1)$ is orthogonal to the subspace generated by $\\{ (r1, -d1), (r2, -d2) \\}$.\n",
    "- So any other basis of the subspace generated by $\\{ (r1, -d1), (r2, -d2) \\}$ will do just as well.\n",
    "- In summary, we have that (a) lines in 3D, (b) pairs of planes in 3D, (c) 2 dimensional subspaces of $\\mathbb R^4$ are in bijection with each other.\n",
    "- The space (c) is called as $G(2, 4)$: the space of 2 dimensional subspaces of a 4 dimensional vector space.\n",
    "- That's a _geometric_ definition of $G(2, 4)$. Can we \"get our hands on it\"? What does that even mean?\n",
    "\n",
    "#### Thinking about $G(1, n)$.\n",
    "- What should $G(1, n)$ mean? Well, it should be the space of 1 dimensional subspaces of an $n$ dimensional space.\n",
    "- Said differently, that is just saying $G(1, n) \\simeq P(n-1)$.\n",
    "- Okay, we already have a reasonable handle on $P(n-1)$. Can we build $G(2, 4)$ by analogy?"
   ]
  },
  {
   "cell_type": "markdown",
   "id": "6c5b4a27",
   "metadata": {},
   "source": [
    "\n",
    "\n",
    "# Construction of $G(2, 4)$: All 2 dimensional subspaces of a 4 dimensional vector space\n",
    "\n",
    "\n",
    "|data |Projective space $P(n)$       | Grassmanian $G(k, n+1)$|\n",
    "|-----|------------------------------|------------------------|\n",
    "| Geometry| Lines (1D subspace)in $n+1$D. space. | $k$D subspaces of $n+1$D space. |\n",
    "| Non degeneracy | quotient of rank $1$ vectors ($\\mathbb R^{n+1}-\\{0\\}$)  | quotient of rank $k$ vectors $(\\mathbb R^{n+1})^k$ ($k$ dim subspace) |\n",
    "| Quotient by  action | Quotient by $\\mathbb R^\\times \\simeq GL(1)$ action. |  Quotient  by $GL(n)$ action. | \n",
    "| Parametrization | Parametrized by $n = \\binom{n}{1}$ coordinates | Parametrized by $\\binom{n}{k}$ coordinates|\n",
    "\n",
    "\n",
    "- We now wish to calcuate and/or construct $G(2, 4)$ for the purposes of solving the above problem.\n",
    "- Since we need $k$ dimensional subspaces, we start by taking matrices of shape $4 \\times 2$, and demand $2$ rank. So we start by setting $G(2, 4) \\equiv \\{ m \\in \\mathbb R^{4 \\times 2} :  \\texttt{Rank}(m) = 2 \\}$.\n",
    "- We must now quotient this space to ensure that we unify all $4 \\times 2$ matrices where the span of the two rows   represents the same subspace. So we must have $m \\sim n$ iff $\\texttt{Span}(m[1], m[2]) = \\texttt{Span}(n[1], n[2])$. \n",
    "- Key idea: we quotient by a $GL(2, \\mathbb R)$ action, since this allows us to perform row transformations. Thus, if two matrices span the same subspace, we can perform gaussian elimination or whatever to bring them to the same normal normal form. Thus, we get that $G(2, 4) \\equiv \\{ m \\in \\mathbb R^{4 \\times 2} :  \\texttt{Rank}(m) = 2 \\} / GL(2, \\mathbb R)$.\n",
    "- We write our space as:\n",
    "\n",
    "$$\n",
    "\\begin{bmatrix}\n",
    "r11 & r12 & r13 & d1 \\\\\n",
    "r21 & r22 & r23 & d2\n",
    "\\end{bmatrix} \\in G(2, 4)\n",
    "$$\n",
    "\n",
    "- Where we impose an equivalence relation given by orbits of all invertible $2\\times2$ matrices ($GL(2)$).\n",
    "- This is the grassmanian $G(2, 4)$: parametrizing systems of 2 eqns in\n",
    "  projective 4 space. This is equivalent to parametrizing lines in 3 space.\n",
    "  \n"
   ]
  },
  {
   "cell_type": "markdown",
   "id": "296ee17c",
   "metadata": {},
   "source": [
    "# Relationship between $G(2, 4)$ and two forms\n",
    "- **Claim**: given two vectors $v, w \\in \\mathbb R^4$ that span a subspace $S \\subseteq \\mathbb R^4$, we can identify the subspace $S$ with the two form $v \\wedge w$ in the following way --- any other vectors $x, y \\in \\mathbb R^4$ that span $S$ must be such that $x \\wedge y = \\lambda v \\wedge w$ for some $\\lambda in \\mathbb R^\\times$.\n",
    "- Said diffrently, we have a relationship where $G(2, 4) \\simeq P(\\mathbb R^4 \\wedge \\mathbb R^4)$ where $P$ is the projective space over the space of two forms $(\\mathbb R^4 \\wedge \\mathbb R^4)$. This follows because two forms $x \\wedge y$, $v \\wedge w$ which describe the same subspace $S$ are linearly related to each other.\n",
    "\n",
    "#### **Proof**:\n",
    "- Since $x, y$ span the subspace $S$ which is spanned by $v, w$, it is possible to write $x = av + bw$, and $y = cv + dw$. Then, we have that $x \\wedge y$ is equal to:\n",
    "\\begin{align*}\n",
    "&x \\wedge y \\\\\n",
    "&= (av + b w) \\wedge (cv + dw) \\\\\n",
    "&= ac v \\wedge v + ad v \\wedge w + bc w \\wedge v + bd w \\wedge w \\\\\n",
    "&= ac \\cdot 0 + ad v \\wedge w + bc (- v \\wedge w) + bd \\cdot 0 \\\\\n",
    "&= (ad - bc) v \\wedge w \\\\\n",
    "&= \\left|\\begin{matrix} a & b \\\\ c & d \\end{matrix} \\right| v \\wedge w \n",
    "\\end{align*}\n",
    "\n",
    "- Thus, if the transformation is invertible (ie, we really go get a new basis $x, y$ of the subspace $S$ spanned by $v, w$), then we have that $x \\wedge y$ is linearly dependent on $v \\wedge w$.\n",
    "- Thus, we can identify the subspace $S \\equiv \\texttt{span}(v, w)$ with the set of all 2 forms $(x \\wedge y)$ such that $x \\wedge y = \\lambda v \\wedge w$ for some $\\lambda \\in \\mathbb R^\\times$.\n",
    "- Said differently, we can identify subspaces like $S$ with elements of $P(\\mathbb R^4 \\wedge \\mathbb R^4)$: projective space over the space of two forms over $\\mathbb R^4$."
   ]
  },
  {
   "cell_type": "markdown",
   "id": "5d21b53a",
   "metadata": {},
   "source": [
    "# Plucker coordinates via $G(2, 4) \\simeq P(\\mathbb R^4 \\wedge \\mathbb R^4)$\n",
    "- Let's consider a subspace $S$ spanned by vectors $p, q \\in \\mathbb R^4$. This $S$ is an element of $G(2, 4)$.\n",
    "- we've seen that such a subspace such as $S$ corresponds to $[s \\wedge s'] \\in P(\\mathbb R^4 \\wedge \\mathbb R^4)$ (where I use $[\\cdot]$ to represent equivalence classes).\n",
    "- Let's expand $[p \\wedge q$ in terms of the basis of $\\mathbb R^4$. Let the basis vectors of $\\mathbb R^4$ be write $x, y, z w$, such that $x \\wedge x = 1, x \\wedge \\_ = 0$ and similarly for $y, z, w$.\n",
    "- Let's write $p, q$ in terms of the basis as well. We have $s = ax + by + cz + dw$, $s' = a'x + b'y + c'z + d'w$. Computing the wedge, we will find:\n",
    "\n",
    "$$\n",
    "\\begin{align*}\n",
    "&s \\wedge s' = \\\\\n",
    "&~~(ab' - a'b)dx \\wedge dy \\\\\n",
    "&~~(ac' - a'c)dx \\wedge dz \\\\\n",
    "&~~(ad' - a'd)dx \\wedge dw \\\\\n",
    "&~~(bc' - b'c)dy \\wedge dz \\\\\n",
    "&~~(bd' - b'd)dy \\wedge dw \\\\\n",
    "&~~(cd' - c'd)dz \\wedge dw\n",
    "\\end{align*}\n",
    "$$\n",
    "\n",
    "This gives us a way to parametrize subspaces $S$, given by bases $s \\wedge s'$ in terms of 6 (projective) coordinates:\n",
    "\n",
    "$$\n",
    "[p_{12} \\equiv ab' - a'b, p_{13} \\equiv ac' - a'c, p_{14} \\equiv ad' - a'd, p_{23} \\equiv bc' - b'c, p_{24} \\equiv bd' - b'd, p_{34} \\equiv cd' - c'd]\n",
    "$$\n",
    "\n",
    "- These projective coordinates are called **Plucker coordinates**\n",
    "- More commonly, they are expressed as the determinants of $2 \\times 2$ minors of the $2 \\times 4$ matrix given by:\n",
    "\n",
    "$$\n",
    "\\begin{bmatrix}\n",
    "a & b & c & d \\\\\n",
    "a' & b' & c' & d' \\\\\n",
    "\\end{bmatrix}\n",
    "$$\n",
    "\n",
    "- Regardless, their geometric origin arises from the isomorphism $G(2, 4) \\simeq P(\\mathbb R^4 \\wedge \\mathbb R^4)$ as described above."
   ]
  },
  {
   "cell_type": "code",
   "execution_count": null,
   "id": "da32150c",
   "metadata": {},
   "outputs": [],
   "source": []
  }
 ],
 "metadata": {
  "kernelspec": {
   "display_name": "Python 3",
   "language": "python",
   "name": "python3"
  },
  "language_info": {
   "codemirror_mode": {
    "name": "ipython",
    "version": 3
   },
   "file_extension": ".py",
   "mimetype": "text/x-python",
   "name": "python",
   "nbconvert_exporter": "python",
   "pygments_lexer": "ipython3",
   "version": "3.9.7"
  }
 },
 "nbformat": 4,
 "nbformat_minor": 5
}
